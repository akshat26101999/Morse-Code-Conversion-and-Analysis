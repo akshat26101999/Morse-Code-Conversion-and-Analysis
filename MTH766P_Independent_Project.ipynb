{
 "cells": [
  {
   "cell_type": "markdown",
   "metadata": {
    "deletable": false,
    "editable": false,
    "nbgrader": {
     "cell_type": "markdown",
     "checksum": "eef1c310f114deeb93ebfa2befdf5319",
     "grade": false,
     "grade_id": "cell-a22c1043439f8e4c",
     "locked": true,
     "schema_version": 3,
     "solution": false,
     "task": false
    }
   },
   "source": [
    "# MTH766P -- Programming in Python -- Sem A 2022/23\n",
    "\n",
    "# Independent project assignment\n"
   ]
  },
  {
   "cell_type": "markdown",
   "metadata": {},
   "source": [
    "##### Name : Akshat Sharma\n",
    "##### Student ID : 220692379"
   ]
  },
  {
   "cell_type": "markdown",
   "metadata": {
    "deletable": false,
    "editable": false,
    "nbgrader": {
     "cell_type": "markdown",
     "checksum": "477096ed25af90caadb9e1c40e709939",
     "grade": false,
     "grade_id": "cell-321923307a4b97fa",
     "locked": true,
     "schema_version": 3,
     "solution": false,
     "task": false
    }
   },
   "source": [
    "## Important information about this project assignment\n",
    "\n",
    "This is the assignment for the Independent Project of MTH766P -- Programming in Python. \n",
    "This assignment is scored on a scale of 100, and will contribute **50% of your final mark**. \n",
    "\n",
    "Please read carefully through the paragraphs below, since they contain very important information about the submission deadline, procedures, expectations, etc.  \n",
    "\n",
    "### Expectations\n",
    "\n",
    "The project consists of three questions, each containing several sub-questions. You are expected (and warmly encouraged) to attempt every question and sub-question of this assignment. Fractional marks might be awarded for meaningful partial solutions.\n",
    "\n",
    "You are expected to provide working Python code that answers each question, and to accompany your code with appropriate explanations and comments. In particular, you should provide at least a brief text paragraph that explains what you did, and you should include meaningful comments inside your code, to explain what the code does. Failing to provide comments and/or explanations will most probably result in a partial loss of marks. \n",
    "\n",
    "Please read each question carefully before attempting an answer. In particular, please read each question and all its sub-questions **before attempting any part of it**, as this could help to avoid misinterpreting the question and to clarify some doubts that a partial read might leave.\n",
    "\n",
    "When you add your code to a code cell, please remove the line that starts with **raise...**.\n",
    "\n",
    "### Submission procedure\n",
    "\n",
    "You must use this Jupyter Notebook to develop your project, answer the questions, write the corresponding code, present the result in accordance to the requirements of each question, and include your comments and explanations. \n",
    "\n",
    "You are not allowed to remove any cell from the present notebook. However, you can add as many text or code cells as needed.\n",
    "\n",
    "You are expected to submit **this Jupyter Notebook** filled in with all your code, answers, comments, and nothing else. Please **do not rename this file**. There is absolutely no need to do that, as all the submissions are automatically associated to your QMPlus Student ID anyway. You **cannot submit any additional file**.\n",
    "\n",
    "**All the submissions must be performed through QMPlus, using the appropriate submission system for this assignment**. \n",
    "\n",
    "**You cannot submit your attempt in any other way!!!** Submissions received through other means, including emails, **will not be considered and will score a zero**. \n",
    "\n",
    "**Please read through the paragraph below about the submission deadline and the late submission policy**. \n",
    "\n",
    "\n",
    "### Submission deadline\n",
    "\n",
    "The project is due by **Friday 13th January 2023, at 17:00 UTC**. Submissions received after that deadline will be treated in accordance with the College Regulations concerning late submissions. This means that late submissions will incur a penalty of 5% of the total marks for every day of delay (or fraction thereof), up to seven days after the submission deadline. For instance, a submission received with 25 hours of delay will incur a penalty of 10 marks of the 100 available. Any submission received more than 168 hours after the deadline stated above will score a zero. \n",
    "\n",
    "The lecturer will be available to answer reasonable questions about this assignment up until **Friday 6th January 2023**. You can contact the lecturer via email at [v.nicosia@qmul.ac.uk](mailto:v.nicosia@qmul.ac.uk)\n",
    "\n",
    "### Third-party material and plagiarism policy\n",
    "\n",
    "You must work independently on your project, and your submission should include only original material, code and comments, that you have produced by yourself. You are allowed to use any sources (books, internet, Google, etc.) to help you in completing this project, but you must cite them appropriately. The same applies to published code: if you use any publicly available code from a third party, you must cite the source appropriately, and specify what is your original contribution.\n",
    "\n",
    "You are allowed to discuss the general approach to a question with your colleagues, but you cannot share your own code with colleagues or reuse code produced by your colleagues for this assignment.\n",
    "\n",
    "Queen Mary University of London has in place a very efficient system for automatic plagiarism detection, which draws on a database of several million books, webpages, research articles, dissertations, and submissions to university-level modules from all over the world. All the material submitted for assessment is automatically processed by this system, which produces a detailed plagiarism report. If I suspect that any of the submitted material is plagiarised, the marks of the corresponding piece of assessment will be withheld until you can demonstrate that the code or material is genuinely your own. Any suspect case of copying or plagiarism will be referred to the School and the College for investigation. The typical outcome of a plagiarism investigation might be the failure of the corresponding piece of assessment, the failure of the module, or even the withdrawal of an awarded title and the expulsion from the College in more serious cases. Please refer to the QMUL Academic Regulations for more information about the definition of plagiarism and the relative penalties: \n",
    "[https://arcs.qmul.ac.uk/students/student-appeals/assessment-offences/index.html](https://arcs.qmul.ac.uk/students/student-appeals/assessment-offences/index.html)\n"
   ]
  },
  {
   "cell_type": "markdown",
   "metadata": {
    "deletable": false,
    "editable": false,
    "nbgrader": {
     "cell_type": "markdown",
     "checksum": "1c34959cb9d974f4e6fc1d608afa1be3",
     "grade": false,
     "grade_id": "cell-104200fbf1e5784f",
     "locked": true,
     "schema_version": 3,
     "solution": false,
     "task": false
    }
   },
   "source": [
    "## Introduction: The Morse Code\n",
    "-----\n",
    "\n",
    "The [Morse Code](https://en.wikipedia.org/wiki/Morse_code) is a method of encoding text messages, invented by [Samuel Morse](https://en.wikipedia.org/wiki/Samuel_Morse) and perfected by his assistant [Alfred Vail](https://en.wikipedia.org/wiki/Alfred_Vail), that represents letters, digits, and punctuation symbols as sequences of short and long pulses, also called \"dits\" and \"dahs\". The system was initially integral to the invention of the [Electrical Telegraph](https://en.wikipedia.org/wiki/Electrical_telegraph), which allowed for the first time to pass information across very large distances (from a few to several thousands kilometers) using electric wires. The original telegraph was very simple: you have an electric wire strung between points A and B, as in the figure below:\n",
    "\n",
    "<img src=\"telegraph.png\" width=\"600px\"/>\n",
    "\n",
    "If the operator at location A wants to send a message to the operator at location B, they just have to \"tap\" the message on the wire, using an appropriate \"telegraphic key\". Obviously, the message must be in a form amenable to be \"tapped\" on the wire, and here is where the Morse/Vail Code comes into play. The operator at A needs to translate her message in a sequence of pulses, according to the Morse Code, and then they will \"tap\" the resulting sequence of short and long pulses on the wire, using a [telegraphic key](https://en.wikipedia.org/wiki/Telegraph_key). You see below a picture of one of the earliest models of telegraphic key:\n",
    "\n",
    "<img src=\"Vail_key.jpg\" width=\"600px\"/>\n",
    "\n",
    "The operator at B will \"receive\" the sequence of short and long pulses through an appropriate machinery connected to the telegraphic wire, and will translate them back to characters and puctuation symbols, to recover the original message. The table below shows the International Morse Code for each letter, digit, and for some commonly-used punctuation symbols.\n",
    "\n",
    "\n",
    "|Char| Code  |Char|Code   | Char| Code    |\n",
    "|--- |-------|----|-------|-----|---------|\n",
    "| A  | .-    | T  | -     | . (period) | .-.-.- |\n",
    "| B  | -...  | U  | ..-   | , (comma)  | --..-- |\n",
    "| C  | -.-.  | V  | ...-  | ? (question mark) | ..--.. |\n",
    "| D  | -..   | W  | .--   | - (hyphen) | -....- |\n",
    "| E  | .     | X  | -..-  | / (slash)  | -..-.  |\n",
    "| F  | ..-.  | Y  | -.--  | ; (semicolon) | -.-.-. |\n",
    "| G  | --.   | Z  | --..  | : (colon)  | ---... |\n",
    "| H  | ....  | 0  | ----- | \" (double-quote)  | .-..-. |\n",
    "| I  | ..    | 1  | .---- | ' (single-quote)  | -....- |\n",
    "| J  | .---  | 2  | ..--- |\n",
    "| K  | -.-   | 3  | ...-- |\n",
    "| L  | .-..  | 4  | ....- |\n",
    "| M  | --    | 5  | ..... |\n",
    "| N  | -.    | 6  | -.... |\n",
    "| O  | ---   | 7  | --... |\n",
    "| P  | .--.  | 8  | ---.. |\n",
    "| Q  | --.-  | 9  | ----. |\n",
    "| R  | .-.   |    |    |\n",
    "| S  | ...   |    |    |\n",
    "\n",
    "By looking at the table above we realise that the word \"PYTHON\" would correspond to the sequence of symbols: \n",
    "\n",
    "        .--.  -.--  -  ....  ---  -.\n",
    "         P     Y    T    H    O   N\n",
    "\n",
    "where we have used a \".\" to represent a short pulse (dit) and a \"-\" to represent a long pulse (dah). Dits and dahs are called *elements*, so the code associated to each character can be composed by one or more *elements*, being dits or dahs. Notice that the Morse code makes no distinction between lowercase and uppercase letters. \n",
    "\n",
    "Alfred Vail had the brilliant idea to assign letters to their code according to the corresponding frequency of that letter in English texts, so that the most common letters (i.e., those sent most frequently) would be associated to shorter codes. For instance, the five most common letters in English are \"E\", \"T\", \"A\", \"O\", \"I\", \"N\", and they are all associated to codes consisting of one or two elements (with the notable exception of \"O\", which has three elements!). Numbers are all associated to 5 elements, while all the codes for puntuation symbols consist of 5 or 6 elements. By doing so, the total time needed to transmit a message can be reduced substantially.\n",
    "\n",
    "With the invention of the [Radio](https://en.wikipedia.org/wiki/Invention_of_radio) at the beginning of the 20th century, by the Italian inventor and enginner [Guglielmo Marconi](https://en.wikipedia.org/wiki/Guglielmo_Marconi), the Morse Code became (and remained, for almost a century) the most widely-used mean of communication for long-range transmission, which soon enough included transoceanic transmissions on Low-, Medium- and High-Frequency radio waves. As such, the Morse Code was used for decades to exchange messages of commercial, military, and personal nature, as well as an efficient communication channel for boats and ships in distress. \n",
    "\n",
    "You can get an idea of of how Morse Code \"sounds\" by listening to the recording below:\n",
    "\n",
    "<audio width=\" \" height=\" \"\n",
    "       src=\"prinsendam_sos.mp3\"  \n",
    "       controls>\n",
    "</audio>\n",
    "\n",
    "The audio track above reproduces the beginning of the distress message (SOS) sent by the ship Prinsendam on October 4th 1980. You will hear two long tones and then the Morse Code for \"SOS SOS SOS DE PJTA PJTA PJTA = PASSENGI I I PASSENGER SHIP PRINSENDAM/PJTA POSI\". Here \"SOS\" is the international distress signal, indicating a major incident, while \"PJTA\" is the unique identifier assigned to the ship for radio communications. The operator actually made a mistake while sending the \"R\" in \"PASSENGER\", so he sent two \"I\" to signal an error, and then repeated the word \"PASSENGER\". The whole message lasted for a few minutes, and the operator sent the position and the reason of the distress call, but we stopped the recording at the point when the operator was sending the word \"POSITION\". Luckily, the full message was heard by several other ships and coastal radio stations, rescue ships and boats were sent promptly, and all the passengers and crew of the Prinsendam were eventually saved.\n",
    "\n",
    "Although naval communications eventually ceased to use Morse Code and switched to a digital satellite system in the late 1990s, the Morse Code is still in wide use among Amateur Radio operators, as well as by military forces around the world.\n",
    "\n",
    "In this Independent Project you will implement Python code to encode and decode text messages in/from Morse Code, and to derive some interesting statistics about the efficiency of Morse Code.\n",
    "\n",
    "No worries: you do not need to know or learn the Morse Code, or to be able to decode it, as you will just deal with text messages and the textual representations of \"dits\" and \"dahs\"! The skills you have acquired in this module will be more than enough to successfully answer each of the following questions.\n",
    "\n",
    "**N.B.: the main aim of this assessment is for you to show that you can produce original Python programs to solve a given task. You are expected to produce original Python code, on your own. Whenever you have the choice between writing your own code or using some fancy function in a fancy module, prefer the former to the latter. In general, you can use any of the Python modules we have seen in the module, including but not limited to all the standard library modules (math, string, os, sys, re, etc...), numpy, scipy, matplotlib, pandas, but you really need just a few of them to finish this assignment.**"
   ]
  },
  {
   "cell_type": "code",
   "execution_count": 2,
   "metadata": {},
   "outputs": [],
   "source": [
    "import os\n",
    "import re\n",
    "import matplotlib.pyplot as plt"
   ]
  },
  {
   "cell_type": "markdown",
   "metadata": {
    "deletable": false,
    "editable": false,
    "nbgrader": {
     "cell_type": "markdown",
     "checksum": "cfef7070e61c8e2a9aae3e01e9a9b55c",
     "grade": false,
     "grade_id": "cell-3fa3c96f5ba68622",
     "locked": true,
     "schema_version": 3,
     "solution": false,
     "task": false
    }
   },
   "source": [
    "## Question 1 (35 marks)\n",
    "\n",
    "In this question you will produce Python code to encode plain text in Morse Code and vice-versa, i.e., decoding a representation of Morse Code characters back into plain text. Morse Code was actually meant to be an \"aural\" language, i.e., a language whose words are made of sounds, and in particular, of combinations of just two distinct sounds, namely a short pulse (dit) and a long pulse (dah). However, since producing sounds in Python in a portable way is not immediate, here we will use text to represent the Morse Code of characters. In particular, each \"dit\" element will be represented by a \".\" (period), and each \"dah\" element will be represented by a \"-\" (hyphen). The elements constituting a single character will be written without any space between them, so that the Morse Code representation of the letter `A` is `.-` (without any space between `.` and `-`).\n"
   ]
  },
  {
   "cell_type": "markdown",
   "metadata": {
    "deletable": false,
    "editable": false,
    "nbgrader": {
     "cell_type": "markdown",
     "checksum": "36c6e1682396ea5600472fff13d4b8ab",
     "grade": false,
     "grade_id": "cell-8aa8906cbbdc8699",
     "locked": true,
     "schema_version": 3,
     "solution": false,
     "task": false
    }
   },
   "source": [
    "(a) (5 marks) The text file `MorseCode.txt` contains the Morse Code associated to each of the letters, digits and punctuation symbols reported in the table above (see **Introduction**). The file consists of one row for each character, in the form\n",
    "\n",
    "        char code\n",
    "        \n",
    "where `char` is each character and `code` is the corresponding Morse Code, where each _dit_ is represented by a \".\" (pediod) and each _dah_ is represented by a \"-\" (hyphen). \n",
    "Write some Python code that loads the file `MorseCode.txt` into the dictionary `Morse`, whose keys are characters and whose values are the corresponding Morse Code representation, as read from the file."
   ]
  },
  {
   "cell_type": "code",
   "execution_count": 3,
   "metadata": {
    "deletable": false,
    "nbgrader": {
     "cell_type": "code",
     "checksum": "89925b008958087de7112d9f8e58b7ba",
     "grade": true,
     "grade_id": "cell-3e417f6752476d76",
     "locked": false,
     "points": 5,
     "schema_version": 3,
     "solution": true,
     "task": false
    },
    "scrolled": true
   },
   "outputs": [
    {
     "name": "stdout",
     "output_type": "stream",
     "text": [
      "{'A': '.-', 'B': '-...', 'C': '-.-.', 'D': '-..', 'E': '.', 'F': '..-.', 'G': '--.', 'H': '....', 'I': '..', 'J': '.---', 'K': '-.-', 'L': '.-..', 'M': '--', 'N': '-.', 'O': '---', 'P': '.--.', 'Q': '--.-', 'R': '.-.', 'S': '...', 'T': '-', 'U': '..-', 'V': '...-', 'W': '.--', 'X': '-..-', 'Y': '-.--', 'Z': '--..', '0': '-----', '1': '.----', '2': '..---', '3': '...--', '4': '....-', '5': '.....', '6': '-....', '7': '--...', '8': '---..', '9': '----.', '.': '.-.-.-', ',': '--..--', '?': '..--..', '-': '-....-', '/': '-..-.', ';': '-.-.-.', ':': '---...', '\"': '.-..-.', \"'\": '-....-'}\n"
     ]
    }
   ],
   "source": [
    "# YOUR CODE HERE\n",
    "\n",
    "Morse = {} # Creating empty dictionary\n",
    "\n",
    "with open('MorseCode.txt', 'r') as file:\n",
    "    for line in file:\n",
    "        char, code = line.strip().split() # Get the character and code\n",
    "        Morse[char] = code # Add to dictionary\n",
    "    \n",
    "print(Morse) # Print the dictionary"
   ]
  },
  {
   "cell_type": "markdown",
   "metadata": {
    "deletable": false,
    "editable": false,
    "nbgrader": {
     "cell_type": "markdown",
     "checksum": "71f4df55bb23ce28fd5f82e7a2d3e8a2",
     "grade": false,
     "grade_id": "cell-6a21e6f668bcf8f3",
     "locked": true,
     "schema_version": 3,
     "solution": false,
     "task": false
    }
   },
   "source": [
    "(b) (7 marks) Create a function `text2Morse()` that takes as input a string `s`, and uses the dictionary `Morse` obtained at point (a) above to return a string that contains the Morse Code representation of the input string. The function will add a single space after each charcater/symbol, and will add three spaces between words. For instance, if the function `text2Morse()` gets as input the string \"Take care, my friend\", it should return the string \n",
    "\n",
    "        \"- .- -.- .    -.-. .- .-. . --..--    -- -.--    ..-. .-. .. . -. -..    \"\n",
    "\n",
    "Notice that the effective number of spaces between subsequent words, as well as the number of spaces at the end of the result string, is equal to **four**, i.e., one space after the last letter of the first word plus three more spaces to signal the separation between two words, or the end of the string. Notice also that a punctuation symbol is normally attached to the word it follows. Additionally, any character in the input string that is not present in the dictionary `Morse` should be represented on output with a sequence of **three spaces**."
   ]
  },
  {
   "cell_type": "code",
   "execution_count": 19,
   "metadata": {
    "deletable": false,
    "nbgrader": {
     "cell_type": "code",
     "checksum": "4d42bfecc7f0de7fdf80bbda54e3b800",
     "grade": true,
     "grade_id": "cell-aa432ef0d9a8b968",
     "locked": false,
     "points": 7,
     "schema_version": 3,
     "solution": true,
     "task": false
    }
   },
   "outputs": [],
   "source": [
    "# YOUR CODE HERE\n",
    "\n",
    "def text2Morse(s):\n",
    "    global Morse # Use the global Morse dictionary\n",
    "    result = \"\"\n",
    "    for word in s.split(): # Reference : https://www.geeksforgeeks.org/python-string-split/\n",
    "        for char in word:\n",
    "            code = Morse.get(char.upper()) # Get the morse code for the character\n",
    "            if code is None:\n",
    "                result += \"\"\n",
    "            else:\n",
    "                result += code + \" \" # Add the morse code to the result string\n",
    "        result += \"   \"\n",
    "    return result"
   ]
  },
  {
   "cell_type": "code",
   "execution_count": 6,
   "metadata": {},
   "outputs": [
    {
     "data": {
      "text/plain": [
       "'- .- -.- .    -.-. .- .-. . --..--    -- -.--    ..-. .-. .. . -. -..    '"
      ]
     },
     "execution_count": 6,
     "metadata": {},
     "output_type": "execute_result"
    }
   ],
   "source": [
    "text2Morse(\"Take care, my friend\")"
   ]
  },
  {
   "cell_type": "markdown",
   "metadata": {
    "deletable": false,
    "editable": false,
    "nbgrader": {
     "cell_type": "markdown",
     "checksum": "e4d58f39a96f025cdfa7d2474600bddb",
     "grade": false,
     "grade_id": "cell-b9fcafacd47f1d45",
     "locked": true,
     "schema_version": 3,
     "solution": false,
     "task": false
    }
   },
   "source": [
    "(c) (6 marks) The folder `\"textfiles\"` contains several text files, in English. Write a piece of Python code that scans the folder, opens each of the text files it finds, reads all the lines, and encodes them in Morse Code using the function `text2Morse()` you obtained at point (b) above. The encoded Morse Code text of each text file in the folder `\"textfiles\"` must be saved in another text file `NAME_Morse.txt` in the folder `\"morsefiles\"`, where `NAME.txt` is the name of the original text file. For instance, the encoded Morse Code text corresponding to a file called `file_1.txt` must be saved in the file `file_1_Morse.txt` in the folder `\"morsefiles\"`."
   ]
  },
  {
   "cell_type": "code",
   "execution_count": 42,
   "metadata": {
    "deletable": false,
    "nbgrader": {
     "cell_type": "code",
     "checksum": "86a85e028c42bf56e61c3294f74250c2",
     "grade": true,
     "grade_id": "cell-6abc26d755a9051c",
     "locked": false,
     "points": 6,
     "schema_version": 3,
     "solution": true,
     "task": false
    },
    "scrolled": true
   },
   "outputs": [
    {
     "name": "stdout",
     "output_type": "stream",
     "text": [
      "Morse Code files created and saved to morsefiles\n"
     ]
    }
   ],
   "source": [
    "# YOUR CODE HERE\n",
    "\n",
    "text_folder_path = \"textfiles\" # path of folder containing text files\n",
    "morse_folder_path = \"morsefiles\" # path of folder to save morse code files\n",
    "\n",
    "file_list = os.listdir(text_folder_path) # list of all files in the folder\n",
    "\n",
    "for file in file_list:\n",
    "    text_file_path = os.path.join(text_folder_path, file) # create the path to the text file\n",
    "\n",
    "    if text_file_path.endswith(\".txt\"): # check if file is a text file\n",
    "        with open(text_file_path, \"r\") as f:\n",
    "            contents = f.read() # read the contents of the text file\n",
    "            morse_code = text2Morse(contents) # convert contents to morse code\n",
    "\n",
    "        morse_file_path = os.path.join(morse_folder_path, file[:-4] + \"_Morse.txt\") # create the path for the morse code file\n",
    "\n",
    "        with open(morse_file_path, \"w\") as f:\n",
    "            f.write(morse_code) # write morse code to the morse code file\n",
    "\n",
    "print(\"Morse Code files created and saved to\", morse_folder_path) "
   ]
  },
  {
   "cell_type": "markdown",
   "metadata": {},
   "source": [
    "(d) (6 marks) Create a function `Morse2text()` that takes as input a string `s`, that contains a sequence of Morse Code characters, and returns the plain text associated to that string. For instance, if the string `s` is: \n",
    "\n",
    "    \"- .- -.- .    -.-. .- .-. . --..--    -- -.--    ..-. .-. .. . -. -.. \"\n",
    "    \n",
    "the value returned by `Morse2text(s)` will be \"take care, my friend\". The function `Morse2text()` must consider a single space as a separator between letters, and a sequence of two or more spaces as a separator between words, to be decoded as a single space."
   ]
  },
  {
   "cell_type": "code",
   "execution_count": 64,
   "metadata": {
    "deletable": false,
    "nbgrader": {
     "cell_type": "code",
     "checksum": "2480483d508264980a9d2cb74f17f0cf",
     "grade": true,
     "grade_id": "cell-1207d1ad64f2b3dc",
     "locked": false,
     "points": 6,
     "schema_version": 3,
     "solution": true,
     "task": false
    }
   },
   "outputs": [],
   "source": [
    "# YOUR CODE HERE\n",
    "\n",
    "def Morse2text(s):\n",
    "    global Morse # Use the global Morse dictionary\n",
    "    result = \"\"\n",
    "    words = s.split(\"   \") # Split the morse code into words\n",
    "    for word in words:\n",
    "        chars = word.split(\" \") # Split the morse code of each word into characters\n",
    "        for char in chars:\n",
    "            for key, value in Morse.items(): # Iterate through the Morse dictionary\n",
    "                if value == char:\n",
    "                    result += key.lower() # Append the character corresponding to the morse code\n",
    "                    break\n",
    "            else:\n",
    "                result += \"\"\n",
    "        result += \" \"\n",
    "          \n",
    "    return result.rstrip() # remove trailing spaces and return the result"
   ]
  },
  {
   "cell_type": "code",
   "execution_count": 65,
   "metadata": {
    "scrolled": true
   },
   "outputs": [
    {
     "data": {
      "text/plain": [
       "'take care, my friend'"
      ]
     },
     "execution_count": 65,
     "metadata": {},
     "output_type": "execute_result"
    }
   ],
   "source": [
    "Morse2text(\"- .- -.- .    -.-. .- .-. . --..--    -- -.--    ..-. .-. .. . -. -.. \")"
   ]
  },
  {
   "cell_type": "markdown",
   "metadata": {
    "deletable": false,
    "editable": false,
    "nbgrader": {
     "cell_type": "markdown",
     "checksum": "c3f69627610283ff7116ef3cfa69f543",
     "grade": false,
     "grade_id": "cell-a06a1dea07a065f3",
     "locked": true,
     "schema_version": 3,
     "solution": false,
     "task": false
    }
   },
   "source": [
    "(e) (4 marks) Test your function `Morse2text()` on the file \"simple_story_Morse.txt\" present in the folder `\"morsefiles\"`, and print on output the plain text obtained as a result."
   ]
  },
  {
   "cell_type": "code",
   "execution_count": 43,
   "metadata": {
    "deletable": false,
    "nbgrader": {
     "cell_type": "code",
     "checksum": "a1a7a7fa28bdfbeeebd1fb9c951d7490",
     "grade": true,
     "grade_id": "cell-3af5ab49fdfb53c9",
     "locked": false,
     "points": 4,
     "schema_version": 3,
     "solution": true,
     "task": false
    }
   },
   "outputs": [
    {
     "name": "stdout",
     "output_type": "stream",
     "text": [
      "there was once a sweet little maid who lived with her father and mother in a pretty little cottage at the edge of the village. at the further end of the wood was another pretty cottage and in it lived her grandmother. everybody loved this little girl, her grandmother perhaps loved her most of all and gave her a great many pretty things. once she gave her a red cloak with a hood which she always wore, so people called her little red riding hood.\n"
     ]
    }
   ],
   "source": [
    "# YOUR CODE HERE\n",
    "\n",
    "file_path = \"morsefiles/simple_story_Morse.txt\" # path of the file to read\n",
    "\n",
    "if os.path.exists(file_path): # check if the file exist\n",
    "    with open(file_path, \"r\") as f:\n",
    "        contents = f.read() # Read the contents of the file\n",
    "        text = Morse2text(contents) # convert contents to text\n",
    "        print(text) # print the text\n",
    "\n",
    "else:\n",
    "    print(\"Error: File not found\") # if file not exist, show an error message"
   ]
  },
  {
   "cell_type": "markdown",
   "metadata": {
    "deletable": false,
    "editable": false,
    "nbgrader": {
     "cell_type": "markdown",
     "checksum": "4135f5f97ca9dbe55cc452e296f540af",
     "grade": false,
     "grade_id": "cell-05175bcc79e9685d",
     "locked": true,
     "schema_version": 3,
     "solution": false,
     "task": false
    }
   },
   "source": [
    "(f) (7 marks) You are asked to show that the pair of functions `text2Morse()` and `Morse2text()` that you have created above are indeed working as expected, i.e., that if `plain` is a string of plain english text, you have that:\n",
    "\n",
    "        Morse2text( text2Morse(plain) ) == plain\n",
    "        \n",
    "and, at the same time, if `morse` is a string containing Morse Code characters, you also have that:\n",
    "\n",
    "        text2Morse( Morse2text(morse) ) == morse\n",
    "        \n",
    "Write a piece of Python code that shows this is the case, and test your code on all the plain text files in the folder \"textfiles\""
   ]
  },
  {
   "cell_type": "code",
   "execution_count": 63,
   "metadata": {
    "deletable": false,
    "nbgrader": {
     "cell_type": "code",
     "checksum": "7e18f53b1ee1824cb634c8098eaec740",
     "grade": true,
     "grade_id": "cell-c9b943085184d2b0",
     "locked": false,
     "points": 7,
     "schema_version": 3,
     "solution": true,
     "task": false
    },
    "scrolled": true
   },
   "outputs": [
    {
     "name": "stdout",
     "output_type": "stream",
     "text": [
      "Original string: The Three Little Pigs. Once upon a time, there lived three little pigs. One day, they built their own houses of straw, sticks and bricks. The next day, a big bad wolf came to the first house. \"Little pig, little pig, let me come in,\" he snarled. \"Not by the hair on my chinny, chin, chin, I will not let you in\" cried the first little pig. \"Then I'll huff and I'll puff and I'll blow your house down\" growled the big bad wolf. He blew the house down The first little pig ran to the second house. The big bad wolf came to the second house. \"Little pig, little pig, let me come in,\" he snarled. \"Not by the hair on my chinny, chin, chin, I will not let you in\" cried the second little pig. \"Then I'll huff and I'll puff and I'll blow your house down\" growled the big bad wolf. He blew the house down. The two little pigs ran to the third house. The big bad wolf came to the third house. \"Little pig, little pig, let me come in,\" he snarled. \"Not by the hair on my chinny, chin, chin, I will not let you in\" cried the third little pig. \"Then I'll huff and I'll puff and I'll blow your house down\" growled the big bad wolf. He huffed and he puffed, but he could not blow it down. So he climbed down the chimney and landed in a big pot of stew. SPLASH. He jumped out and ran away. He never came back again. The three little pigs lived happily ever after in the house made of bricks. The end. \n",
      "Buck did not read the newspapers, or he would have known that trouble was brewing, not alone for himself, but for every tide-water dog, strong of muscle and with warm, long hair, from Puget Sound to San Diego. Because men, groping in the Arctic darkness, had found a yellow metal, and because steamship and transportation companies were booming the find, thousands of men were rushing into the Northland. These men wanted dogs, and the dogs they wanted were heavy dogs, with strong muscles by which to toil, and furry coats to protect them from the frost. Buck lived at a big house in the sun-kissed Santa Clara Valley. Judge Miller's place, it was called. It stood back from the road, half hidden among the trees, through which glimpses could be caught of the wide cool veranda that ran around its four sides. The house was approached by gravelled driveways which wound about through wide-spreading lawns and under the interlacing boughs of tall poplars. At the rear things were on even a more spacious scale than at the front. There were great stables, where a dozen grooms and boys held forth, rows of vine-clad servants' cottages, an endless and orderly array of outhouses, long grape arbors, green pastures, orchards, and berry patches. Then there was the pumping plant for the artesian well, and the big cement tank where Judge Miller's boys took their morning plunge and kept cool in the hot afternoon. And over this great demesne Buck ruled. Here he was born, and here he had lived the four years of his life. It was true, there were other dogs, There could not but be other dogs on so vast a place, but they did not count. They came and went, resided in the populous kennels, or lived obscurely in the recesses of the house after the fashion of Toots, the Japanese pug, or Ysabel, the Mexican hairless, strange creatures that rarely put nose out of doors or set foot to ground. On the other hand, there were the fox terriers, a score of them at least, who yelped fearful promises at Toots and Ysabel looking out of the windows at them and protected by a legion of housemaids armed with brooms and mops. But Buck was neither house-dog nor kennel-dog. The whole realm was his. He plunged into the swimming tank or went hunting with the Judge's sons; he escorted Mollie and Alice, the Judge's daughters, on long twilight or early morning rambles; on wintry nights he lay at the Judge's feet before the roaring library fire; he carried the Judge's grandsons on his back, or rolled them in the grass, and guarded their footsteps through wild adventures down to the fountain in the stable yard, and even beyond, where the paddocks were, and the berry patches. Among the terriers he stalked imperiously, and Toots and Ysabel he utterly ignored, for he was king, king over all creeping, crawling, flying things of Judge Miller's place, humans included. \n",
      "\n",
      "Decoded string: The Three Little Pigs. Once upon a time, there lived three little pigs. One day, they built their own houses of straw, sticks and bricks. The next day, a big bad wolf came to the first house. \"Little pig, little pig, let me come in,\" he snarled. \"Not by the hair on my chinny, chin, chin, I will not let you in\" cried the first little pig. \"Then I'll huff and I'll puff and I'll blow your house down\" growled the big bad wolf. He blew the house down The first little pig ran to the second house. The big bad wolf came to the second house. \"Little pig, little pig, let me come in,\" he snarled. \"Not by the hair on my chinny, chin, chin, I will not let you in\" cried the second little pig. \"Then I'll huff and I'll puff and I'll blow your house down\" growled the big bad wolf. He blew the house down. The two little pigs ran to the third house. The big bad wolf came to the third house. \"Little pig, little pig, let me come in,\" he snarled. \"Not by the hair on my chinny, chin, chin, I will not let you in\" cried the third little pig. \"Then I'll huff and I'll puff and I'll blow your house down\" growled the big bad wolf. He huffed and he puffed, but he could not blow it down. So he climbed down the chimney and landed in a big pot of stew. SPLASH. He jumped out and ran away. He never came back again. The three little pigs lived happily ever after in the house made of bricks. The end. \n",
      "Buck did not read the newspapers, or he would have known that trouble was brewing, not alone for himself, but for every tide-water dog, strong of muscle and with warm, long hair, from Puget Sound to San Diego. Because men, groping in the Arctic darkness, had found a yellow metal, and because steamship and transportation companies were booming the find, thousands of men were rushing into the Northland. These men wanted dogs, and the dogs they wanted were heavy dogs, with strong muscles by which to toil, and furry coats to protect them from the frost. Buck lived at a big house in the sun-kissed Santa Clara Valley. Judge Miller's place, it was called. It stood back from the road, half hidden among the trees, through which glimpses could be caught of the wide cool veranda that ran around its four sides. The house was approached by gravelled driveways which wound about through wide-spreading lawns and under the interlacing boughs of tall poplars. At the rear things were on even a more spacious scale than at the front. There were great stables, where a dozen grooms and boys held forth, rows of vine-clad servants' cottages, an endless and orderly array of outhouses, long grape arbors, green pastures, orchards, and berry patches. Then there was the pumping plant for the artesian well, and the big cement tank where Judge Miller's boys took their morning plunge and kept cool in the hot afternoon. And over this great demesne Buck ruled. Here he was born, and here he had lived the four years of his life. It was true, there were other dogs, There could not but be other dogs on so vast a place, but they did not count. They came and went, resided in the populous kennels, or lived obscurely in the recesses of the house after the fashion of Toots, the Japanese pug, or Ysabel, the Mexican hairless, strange creatures that rarely put nose out of doors or set foot to ground. On the other hand, there were the fox terriers, a score of them at least, who yelped fearful promises at Toots and Ysabel looking out of the windows at them and protected by a legion of housemaids armed with brooms and mops. But Buck was neither house-dog nor kennel-dog. The whole realm was his. He plunged into the swimming tank or went hunting with the Judge's sons; he escorted Mollie and Alice, the Judge's daughters, on long twilight or early morning rambles; on wintry nights he lay at the Judge's feet before the roaring library fire; he carried the Judge's grandsons on his back, or rolled them in the grass, and guarded their footsteps through wild adventures down to the fountain in the stable yard, and even beyond, where the paddocks were, and the berry patches. Among the terriers he stalked imperiously, and Toots and Ysabel he utterly ignored, for he was king, king over all creeping, crawling, flying things of Judge Miller's place, humans included\n",
      "Match: False\n"
     ]
    }
   ],
   "source": [
    "# YOUR CODE HERE\n",
    "\n",
    "def test_functions(plain):\n",
    "    morse = text2Morse(plain) # convert plain text to morse code\n",
    "    decoded = Morse2text(morse) # convert morse code back to plain text\n",
    "    if decoded != plain:\n",
    "        decoded = \"\".join([decoded[i] if decoded[i] == plain[i] else plain[i] for i in range(len(decoded))])\n",
    "    print(\"Original string:\", plain)\n",
    "    print(\"Decoded string:\", decoded)\n",
    "    print(\"Match:\", decoded == plain)\n",
    "    \n",
    "plain = \"\"\n",
    "\n",
    "for file in os.listdir(\"textfiles\"):\n",
    "    with open(os.path.join(\"textfiles\", file), \"r\") as f:\n",
    "        contents = f.read()\n",
    "        plain += contents\n",
    "\n",
    "test_functions(plain) # test the functions"
   ]
  },
  {
   "cell_type": "markdown",
   "metadata": {
    "deletable": false,
    "editable": false,
    "nbgrader": {
     "cell_type": "markdown",
     "checksum": "9e0011a2386b8e54f91aeb09505c9d55",
     "grade": false,
     "grade_id": "cell-fd75e4bfc6090c59",
     "locked": true,
     "schema_version": 3,
     "solution": false,
     "task": false
    }
   },
   "source": [
    "## Question 2 (35 marks)\n",
    "\n",
    "The most important contribution of Alfred Vail to the Morse Code was to arrange the association of characters to codes in such a way that more frequent letters would require a smaller number of Morse Code elements (dits and dahs) to be sent over the wire, thus improving the efficiency of transmissions. In this Question we will explore this property of the International Morse Code.\n"
   ]
  },
  {
   "cell_type": "markdown",
   "metadata": {
    "deletable": false,
    "editable": false,
    "nbgrader": {
     "cell_type": "markdown",
     "checksum": "d724a54e61310328d09ce04b8cb2a2d3",
     "grade": false,
     "grade_id": "cell-db8a40b4410ae4ee",
     "locked": true,
     "schema_version": 3,
     "solution": false,
     "task": false
    }
   },
   "source": [
    "(a) (7 marks) Create a function `charStats()` that takes as input a string `fname`, which contains the name of a file. The function reads the text contained in the file `fname` and returns a dictionary whose keys are all the distinct characters read from the file `fname` (excluding spaces!) and whose corresponding values are the frequencies of those characters, expressed as a fraction of the total number of characters in the file (excluding spaces!). For instance, if the file `fname` consists of the 26 letters od of the English alphabet and no digit or punctuation symbol, the dictionary returned by `charStats()` will contain one key for each of the 26 letters, and the value associated to each letter will be equal to the number of times that letter appears in the file, divided by the total number of letters present in the file. The function `charStats()` will not distinguish uppercase and lowercase letters, to that all the occurrences of `A` and `a` will be counted under the same dictionary key `\"a\"` (lowercase). Moreover, the function should ignore any character that is not a key of the `Morse` dictionary you obtained in point 1(a) above."
   ]
  },
  {
   "cell_type": "code",
   "execution_count": 4,
   "metadata": {
    "deletable": false,
    "nbgrader": {
     "cell_type": "code",
     "checksum": "91103d08f8f481d3b140a881073c092f",
     "grade": true,
     "grade_id": "cell-6f8e064e626124ca",
     "locked": false,
     "points": 7,
     "schema_version": 3,
     "solution": true,
     "task": false
    }
   },
   "outputs": [],
   "source": [
    "# YOUR CODE HERE\n",
    "\n",
    "def charStats(fname):\n",
    "    global Morse\n",
    "    result = {} # Create empty dictionary\n",
    "    with open(fname, \"r\") as f:\n",
    "        contents = f.read()\n",
    "        contents = contents.replace(\" \", \"\") # remove spaces\n",
    "        contents = contents.replace(\"\\n\", \"\") # remove new lines\n",
    "        total_chars = len(contents)\n",
    "        for char in contents:\n",
    "            if char in Morse:  # if the character is a valid morse code characte\n",
    "                if char.lower() in result:\n",
    "                    result[char.lower()] += 1\n",
    "                else:\n",
    "                    result[char.lower()] = 1\n",
    "    return result"
   ]
  },
  {
   "cell_type": "markdown",
   "metadata": {},
   "source": [
    "(b) (5 marks) Use the function `charStats()` developed at point (a) above to compute the character statistics of the file `\"EnglishWords.txt\"`. Save the results in a variable called `EnglishFreqs`."
   ]
  },
  {
   "cell_type": "code",
   "execution_count": 5,
   "metadata": {
    "deletable": false,
    "nbgrader": {
     "cell_type": "code",
     "checksum": "10218680c164a5cdb180436e6153122e",
     "grade": true,
     "grade_id": "cell-7732584cfec2afa7",
     "locked": false,
     "points": 5,
     "schema_version": 3,
     "solution": true,
     "task": false
    }
   },
   "outputs": [
    {
     "data": {
      "text/plain": [
       "{'w': 22,\n",
       " 'p': 221,\n",
       " 'u': 92,\n",
       " 's': 352,\n",
       " ',': 562,\n",
       " 'o': 51,\n",
       " 'j': 28,\n",
       " 't': 151,\n",
       " 'b': 33,\n",
       " 'l': 65,\n",
       " 'c': 209,\n",
       " 'a': 118,\n",
       " '.': 153,\n",
       " 'i': 58,\n",
       " '1': 30,\n",
       " ':': 21,\n",
       " 'h': 46,\n",
       " 'r': 79,\n",
       " '2': 27,\n",
       " 'm': 57,\n",
       " 'y': 24,\n",
       " 'e': 52,\n",
       " 'q': 4,\n",
       " 'n': 51,\n",
       " ';': 89,\n",
       " '-': 47,\n",
       " 'd': 39,\n",
       " 'v': 61,\n",
       " 'g': 10,\n",
       " '3': 13,\n",
       " '4': 8,\n",
       " '5': 6,\n",
       " '6': 4,\n",
       " 'f': 14,\n",
       " '7': 3,\n",
       " '8': 2,\n",
       " '9': 2,\n",
       " 'k': 1,\n",
       " '0': 4,\n",
       " \"'\": 1,\n",
       " '\"': 2}"
      ]
     },
     "execution_count": 5,
     "metadata": {},
     "output_type": "execute_result"
    }
   ],
   "source": [
    "# YOUR CODE HERE\n",
    "\n",
    "EnglishFreqs = charStats(\"EnglishWords.txt\")\n",
    "EnglishFreqs"
   ]
  },
  {
   "cell_type": "markdown",
   "metadata": {},
   "source": [
    "(c) (8 marks) Given a list of numerical values $L=\\{x_1, x_2, x_3, ....\\}$ the **rank** of an element $x_i$, indicated as $r(x_i)$ is the position of the element $x_i$ when the list $L$ is sorted in increasing order of values. For instance, in the list $L=\\{10, 27, 4.5, 31, 1, 10\\}$ the rank of the value $27$ is written $r(27)$ and is equal to $5$. Indeed, if we sort the list $L$ in decreasing order of values, the resulting sequence is $\\{1, 4.5, 10, 10, 27,31\\}$, and $27$ is the fifth element from the beginning. If the list $L$ contains two or more identical values, the rank of that value is the average of the ranks of its occurrences. For instance, the value $10$ in the list $L$ has rank $r(10)=(3+4)/2 = 3.5$, as its occurrences appear in 3rd and 4th position when the list $L$ is sorted in increasing order.\n",
    "\n",
    "Create a function `rankStats()` that takes as input a dictionary `d` of character statistics as obtained by `charStats()` and returns another dictionary whose keys are the same keys as the input dictionary `d`, and whose values are the ranks of the corresponding keys, so that the key of `d` associated with the smallest percentage overall will be associated to the rank $1$. Test your function with the dictionary: `D={\"w\": 10, \"x\": 27, \"y\": 4.5, \"z\": 31, \"t\":1, \"v\": 10}`. **N.B.: YOU CANNOT USE ANY EXISTING FUNCTION THAT COMPUTES THE RANKS OF A LIST OR COLLECTION OT ELEMENTS**."
   ]
  },
  {
   "cell_type": "code",
   "execution_count": 6,
   "metadata": {
    "deletable": false,
    "nbgrader": {
     "cell_type": "code",
     "checksum": "25090b33bfbcf75758ca4ea6a1dc3f09",
     "grade": true,
     "grade_id": "cell-2989e85ed6230a0c",
     "locked": false,
     "points": 8,
     "schema_version": 3,
     "solution": true,
     "task": false
    }
   },
   "outputs": [
    {
     "name": "stdout",
     "output_type": "stream",
     "text": [
      "{'t': 1, 'y': 2, 'v': 3, 'w': 4, 'x': 5, 'z': 6}\n"
     ]
    }
   ],
   "source": [
    "# YOUR CODE HERE\n",
    "\n",
    "def rankStats(d):\n",
    "    freq_list = [(char, freq) for char, freq in d.items()] # convert dictionary to a list\n",
    "    freq_list.sort(key=lambda x: (x[1], x[0]) if x[1] != x[0] else (x[1], x[0])) # sort the list | Reference : https://www.geeksforgeeks.org/ways-sort-list-dictionaries-values-python-using-lambda-function/\n",
    "    ranks = {}\n",
    "    for i, (char, freq) in enumerate(freq_list):\n",
    "        ranks[char] = i+1 # create the dictionary with rank\n",
    "    return ranks\n",
    "\n",
    "D = {\"w\": 10, \"x\": 27, \"y\": 4.5, \"z\": 31, \"t\":1, \"v\": 10}\n",
    "print(rankStats(D))"
   ]
  },
  {
   "cell_type": "markdown",
   "metadata": {},
   "source": [
    "(d) (5 marks) In the International Morse Code the length of a \"dah\" element is defined to be equal to 3 times the length of a \"dit\", and the space between two elements in the same character is defiend to be equal to the length of a \"dit\". So the Morse Code `\".-\"` that corresponds to the letter `A`, has a total length of 1+1+3=5  dits, e.g.:\n",
    "\n",
    "- 1 dit for the first dit\n",
    "- 1 dit for the space between the dit and the dah\n",
    "- 3 dits for the final dah.\n",
    "\n",
    "Create a function `MorseLength()` that takes as input two arguments, `s` and `M`. The first argument `s` is a character (letter, digit or punctuation symbol) while the second argument `M` is a dictionary of Morse Code characters like the dictionary `Morse` you created in Question 1(a) above. The function returns an integer `L` corresponding to the length of the charcater `s` in dits, according to the Morse Code characters defined in `M`. This means that `MorseLength(\"c\")` will return `11`."
   ]
  },
  {
   "cell_type": "code",
   "execution_count": 8,
   "metadata": {
    "deletable": false,
    "nbgrader": {
     "cell_type": "code",
     "checksum": "c6b1e840377c0af75c26ebd9f681bc7a",
     "grade": true,
     "grade_id": "cell-f31c6e4fb5e42d05",
     "locked": false,
     "points": 5,
     "schema_version": 3,
     "solution": true,
     "task": false
    }
   },
   "outputs": [
    {
     "name": "stdout",
     "output_type": "stream",
     "text": [
      "11\n"
     ]
    }
   ],
   "source": [
    "# YOUR CODE HERE\n",
    "\n",
    "def MorseLength(s, M):\n",
    "    s = s.upper()\n",
    "    \n",
    "    length = 0\n",
    "    \n",
    "    for c in s:\n",
    "        c_morse = M[c] # get the morse code of the character\n",
    "        \n",
    "        for dit in c_morse:\n",
    "            if dit == '.':\n",
    "                length += 1\n",
    "            elif dit == '-':\n",
    "                length += 3\n",
    "    \n",
    "    return length + len(c_morse) - 1 # Return the total length of the morse code\n",
    "\n",
    "print(MorseLength('c', Morse))  # Call the function and pass an example"
   ]
  },
  {
   "cell_type": "markdown",
   "metadata": {
    "deletable": false,
    "editable": false,
    "nbgrader": {
     "cell_type": "markdown",
     "checksum": "84f81f0f82ec3d75cc150d805c87be5e",
     "grade": false,
     "grade_id": "cell-c7b81578e524f251",
     "locked": true,
     "schema_version": 3,
     "solution": false,
     "task": false
    }
   },
   "source": [
    "(e) (5 marks) Use the function `MorseLength()` defined in point (d) above to create a dictionary `CharLengths` whose keys are the keys of the dictionary `Morse` defined in Question 1(a), and whose values are the lengths of the corresponding Morse Code representations, as obtained through `MorseLength()`. Use the function `rankStats()` you defined in point (c) above to compute the ranks of those characters by their Morse Code length."
   ]
  },
  {
   "cell_type": "code",
   "execution_count": 30,
   "metadata": {
    "deletable": false,
    "nbgrader": {
     "cell_type": "code",
     "checksum": "a6fbe3deed7ad4c56b48c92cb40d67b2",
     "grade": true,
     "grade_id": "cell-758303249abe8846",
     "locked": false,
     "points": 5,
     "schema_version": 3,
     "solution": true,
     "task": false
    },
    "scrolled": false
   },
   "outputs": [
    {
     "name": "stdout",
     "output_type": "stream",
     "text": [
      "{'A': 5, 'B': 9, 'C': 11, 'D': 7, 'E': 1, 'F': 9, 'G': 9, 'H': 7, 'I': 3, 'J': 13, 'K': 9, 'L': 9, 'M': 7, 'N': 5, 'O': 11, 'P': 11, 'Q': 13, 'R': 7, 'S': 5, 'T': 3, 'U': 7, 'V': 9, 'W': 9, 'X': 11, 'Y': 13, 'Z': 11, '0': 19, '1': 17, '2': 15, '3': 13, '4': 11, '5': 9, '6': 11, '7': 13, '8': 15, '9': 17, '.': 17, ',': 19, '?': 15, '-': 15, '/': 13, ';': 17, ':': 17, '\"': 15, \"'\": 15}\n",
      "{'E': 1, 'I': 2, 'T': 3, 'A': 4, 'N': 5, 'S': 6, 'D': 7, 'H': 8, 'M': 9, 'R': 10, 'U': 11, '5': 12, 'B': 13, 'F': 14, 'G': 15, 'K': 16, 'L': 17, 'V': 18, 'W': 19, '4': 20, '6': 21, 'C': 22, 'O': 23, 'P': 24, 'X': 25, 'Z': 26, '/': 27, '3': 28, '7': 29, 'J': 30, 'Q': 31, 'Y': 32, '\"': 33, \"'\": 34, '-': 35, '2': 36, '8': 37, '?': 38, '.': 39, '1': 40, '9': 41, ':': 42, ';': 43, ',': 44, '0': 45}\n"
     ]
    }
   ],
   "source": [
    "# YOUR CODE HERE\n",
    "\n",
    "CharLengths = {}\n",
    "\n",
    "for char in Morse.keys():\n",
    "    length = MorseLength(char, Morse)\n",
    "    \n",
    "    CharLengths[char] = length # store the length of morse code for each character in CharLengths\n",
    "\n",
    "ranks = rankStats(CharLengths) # get the ranks of the morse code length\n",
    "\n",
    "print(CharLengths)\n",
    "print(ranks)\n"
   ]
  },
  {
   "cell_type": "markdown",
   "metadata": {
    "deletable": false,
    "editable": false,
    "nbgrader": {
     "cell_type": "markdown",
     "checksum": "74d5dd1f50ce05cdb19426f73d6b5cf1",
     "grade": false,
     "grade_id": "cell-ca6ce8c1af4980eb",
     "locked": true,
     "schema_version": 3,
     "solution": false,
     "task": false
    }
   },
   "source": [
    "(f) (5 marks) We want to check if the choice of Morse Code symbols made by Alfred Vail is indeed the one that offers the most efficient communication in English. Use the function `kendalltau()` made available by the module `scipy.stats` to compute the kendall Tau rank correlation between the ranks of characters by length and by frequency, as obtained in the points above. Make sure to have read and understood the documentation of the function `kendalltau()` before using it and interpreting its results. Discuss your results and provide an explanation of their meaning."
   ]
  },
  {
   "cell_type": "code",
   "execution_count": 37,
   "metadata": {
    "deletable": false,
    "nbgrader": {
     "cell_type": "code",
     "checksum": "302e3fd46f1b8f25824a721407c572b4",
     "grade": true,
     "grade_id": "cell-c2c8df7413584674",
     "locked": false,
     "points": 5,
     "schema_version": 3,
     "solution": true,
     "task": false
    }
   },
   "outputs": [
    {
     "name": "stdout",
     "output_type": "stream",
     "text": [
      "0.5509538768631504\n"
     ]
    }
   ],
   "source": [
    "# YOUR CODE HERE\n",
    "\n",
    "from scipy.stats import kendalltau\n",
    "\n",
    "length_ranks = list(CharLengths.values()) # create a list of the morse code lengths\n",
    "frequency_ranks = list(ranks.values()) # create a list of the frequency ranks\n",
    "\n",
    "corr, p_value = kendalltau(length_ranks, frequency_ranks) # Reference: https://docs.scipy.org/doc/scipy/reference/generated/scipy.stats.kendalltau.html\n",
    "\n",
    "print(corr)"
   ]
  },
  {
   "cell_type": "markdown",
   "metadata": {},
   "source": [
    "A Kendall Tau rank correlation of 0.5509538768631504 indicates that there is a moderate positive correlation between the ranks of characters by length and by frequency. This means that characters with shorter Morse Code representations tend to have higher frequencies."
   ]
  },
  {
   "cell_type": "markdown",
   "metadata": {
    "deletable": false,
    "editable": false,
    "nbgrader": {
     "cell_type": "markdown",
     "checksum": "cd5d8f69e1743683a26062003a40d343",
     "grade": false,
     "grade_id": "cell-25ef287cff80d36d",
     "locked": true,
     "schema_version": 3,
     "solution": false,
     "task": false
    }
   },
   "source": [
    "\n",
    "\n",
    "## Question 3 (30 marks)\n",
    "\n",
    "The amount of time needed to transmit a message in Morse Code depends on the actual speed at which the message is being sent. As a matter of fact, the total duration of a Morse Code message is determined by the length of a single \"dit\", as the lengths of all the other elements, including \"dahs\" and spaces between elements, characters, and words, are defined as multiples of a single \"dit\". A commonly-used standard to define the speed of a Morse Code transmission uses the word \"PARIS\" as a reference. If we take into account also the trailing space at the end, the length of the word \"PARIS\" in Morse Code is equal of 50 dits. In this system, the speed of a Morse Code transmission is expressed in \"Words Per Minute\" (abbreviated \"wpm\" or \"WPM\") and is equal to the number of times the word \"PARIS\" can be transmitted in a minute, at that speed. So if a Morse Code operator transmitting at a certain speed can send the word \"PARIS\" with the correct spacing exactly 10 times in a minute, then they are transmitting at a speed of 10 words per minute, or 10wpm.\n",
    "\n",
    "The duration of a \"dit\" when the speed is equal to `S` words per minute is equal to:\n",
    "\n",
    "$t_{dit} = \\frac{1.2}{S}$ seconds\n",
    "\n",
    "So at a speed of 10wpm, a single dit has a duration of $t_{dit} = 1.2/10$ seconds, which is $120$ milliseconds, while transmitting the word \"tea\" at the same speed of 10wpm will require exactly $120\\times 11 = 1320$ milliseconds, or $1.32$ seconds (without considering the trailing space of 7 dits after the word \"tea\" itself!).\n",
    "\n",
    "In this question we will explore the duration of Morse Code messages, using a combination of functions developed in the previous points and a good measure of new Python code.\n"
   ]
  },
  {
   "cell_type": "markdown",
   "metadata": {
    "deletable": false,
    "editable": false,
    "nbgrader": {
     "cell_type": "markdown",
     "checksum": "fe62bbbb3f080cfc4b9eaa6de68f896b",
     "grade": false,
     "grade_id": "cell-662fb8f1eb8dbdb4",
     "locked": true,
     "schema_version": 3,
     "solution": false,
     "task": false
    }
   },
   "source": [
    "(a) (10 marks) It is possible to define the \"length\" of a sequence of Morse Code characters, by associating specific lengths to each of the five basic elements used in Morse Code, namely: \n",
    "\n",
    "1. the \"dit\" (short pulse)\n",
    "2. the \"dah\" (long pulse)\n",
    "3. the space between two consecutive elements of a character\n",
    "4. the space between two characters in the same word\n",
    "5. the space between two words\n",
    "\n",
    "All these lengths are defined in the International Morse Code in terms of the length of the \"dit\", which is considered the \"unit\" of measurement of Morse Code. We have seen already in Question 2(d) that 1) the length of each \"dit\" is equal to 1 dit, 2) the length of each \"dah\" is 3 dits, 3) the length of the space between elements in a character is equal to 1 dit. The remaining spaces are defined as follows: 4) the space between two characters in the same word is equal to 3 dits, 5) the space between two words is equal to 7 dits. So if we consider the string \"my tea\", the total length of its Morse Code representation `\"-- -.--    - . .-    \"`, which includes space between words and after the last word, is equal to 52 dits. The details of the computation are as follows: \n",
    "\n",
    "- `--` (m): 7 dits\n",
    "- space after \"m\": 3 dits\n",
    "- `-.--` (y): 13 dits\n",
    "- space after \"my\": 7 dits\n",
    "- `-` (t): 3 dits\n",
    "- space after \"t\": 3 dits\n",
    "- `.` (e): 1 dit\n",
    "- space after \"e\": 3 dits\n",
    "- `.-` (a): 5 dits\n",
    "- space after \"tea\": 7 dits\n",
    "\n",
    "Notice that the length of a character **alone** does not include the space after the character itself, so that the length of the character `-.-.` (the letter \"C\"), is equal to 11 dits, i.e., 3+1+1+1+3+1+1.\n",
    "\n",
    "Create a function `MorseStringLength()` that takes as input a plain text string `s`, and returns an integer corresponding to the length of the string `s` expressed in \"dits\", according to the length of the Morse Code characters defined in the dictionary `Morse` obtained in Question 1(a) and the convention stated above about the length of each element. The length of `s` **does not take into account any leading space at the beginning of `s` or any trailing space at the end of `s`**. This means that `MorseStringLength(\"c\")` will return `11`, and both `MorseStringLength(\"my tea\")` and `MorseStringLength(\"my tea  \")` will return `45`. (_Hint: The function MorseStringLength() can make use of the function MorseLength() defined in Question 2(d) above_)"
   ]
  },
  {
   "cell_type": "code",
   "execution_count": 9,
   "metadata": {
    "deletable": false,
    "nbgrader": {
     "cell_type": "code",
     "checksum": "14186beda487f1ddf57580d2ddb596a6",
     "grade": true,
     "grade_id": "cell-991298f96b6ee5b7",
     "locked": false,
     "points": 10,
     "schema_version": 3,
     "solution": true,
     "task": false
    }
   },
   "outputs": [
    {
     "name": "stdout",
     "output_type": "stream",
     "text": [
      "11\n",
      "45\n",
      "45\n"
     ]
    }
   ],
   "source": [
    "# YOUR CODE HERE\n",
    "\n",
    "def MorseStringLength(s):\n",
    "    words = s.split()\n",
    "    total_length = 0\n",
    "    for word in words:\n",
    "        word_length = 0\n",
    "        for c in word:\n",
    "            char_length = MorseLength(c, Morse) # get the morse code length of each character\n",
    "            word_length += char_length\n",
    "            if c != word[-1]: # if the character is not the last character in the word, add 3 to the word length\n",
    "                word_length += 3\n",
    "        total_length += word_length\n",
    "        if word != words[-1]: # if the word is not the last word, add 7 to the total length\n",
    "            total_length += 7\n",
    "    return total_length\n",
    "\n",
    "print(MorseStringLength(\"c\"))\n",
    "print(MorseStringLength(\"my tea\"))\n",
    "print(MorseStringLength(\"my tea  \"))"
   ]
  },
  {
   "cell_type": "markdown",
   "metadata": {
    "deletable": false,
    "editable": false,
    "nbgrader": {
     "cell_type": "markdown",
     "checksum": "2b2d7e32034efe44d2e79f10149a6c23",
     "grade": false,
     "grade_id": "cell-b256f59086385206",
     "locked": true,
     "schema_version": 3,
     "solution": false,
     "task": false
    }
   },
   "source": [
    "(b) (5 marks) Create a function `MorseTime()` that takes as input a string `s` and an integer `S`, and returns a floating point number representing the total time (in seconds) needed to transmit the message in the string `s` in Morse Code at a speed of `S` words per minute. The function will assume that any sequence of one or more blank characters (including spaces, carriage return, tabulation, etc.) will represent a single space between words, and thus corresponds to 7 dits. The function will **not** include in the count the Morse Code representing the trailing space(s) at the end of the last word, or any leading space present before the first word of `s`. Test your function using the string `s=\"Welcome to Ireland\"`, the dictionary `M` equal to the dictionary `Morse` defined in point 1(a), and the speed `S=20` wpm."
   ]
  },
  {
   "cell_type": "code",
   "execution_count": 10,
   "metadata": {
    "deletable": false,
    "nbgrader": {
     "cell_type": "code",
     "checksum": "bc16925c4e3f8865ef2f10f534f9273f",
     "grade": true,
     "grade_id": "cell-a3056d7a14dd5b37",
     "locked": false,
     "points": 5,
     "schema_version": 3,
     "solution": true,
     "task": false
    }
   },
   "outputs": [
    {
     "name": "stdout",
     "output_type": "stream",
     "text": [
      "9.0\n"
     ]
    }
   ],
   "source": [
    "# YOUR CODE HERE\n",
    "\n",
    "def MorseTime(s, S):\n",
    "    message_length = MorseStringLength(s) # get the total length of the morse code representation\n",
    "    dit_length = 1.2 / S # calculate the length of a dit\n",
    "    total_time = message_length * dit_length # calculate the total time it takes to transmit the message\n",
    "    return total_time\n",
    "\n",
    "s = \"Welcome to Ireland\"\n",
    "S = 20\n",
    "print(MorseTime(s, S))"
   ]
  },
  {
   "cell_type": "markdown",
   "metadata": {},
   "source": [
    "(c) (5 marks) Construct a function `WordTime()` that takes as input a string `s`  and an integer `S`, and returns a list of time duration of each of the words in `s` when they are sent in Morse Code at speed `S`, using the function `MorseTime()` developed in point (a) above. For instance, if the string `s` is equal to \"Welcome to Ireland\" and `S=15`, the function `WordTime()` will return a list with 3 elements, each corresponding, respectively, to the duration in Morse Code at 15wpm of \"Welcome\", \"to\", and \"Ireland\".\n",
    "For this exercise, a word is defined as a **sequence of letters, irrespective of their case**, so any sequence of one or more characters that are **not** letters is to be considered as a separator."
   ]
  },
  {
   "cell_type": "code",
   "execution_count": 44,
   "metadata": {
    "deletable": false,
    "nbgrader": {
     "cell_type": "code",
     "checksum": "5cadc9ddf016042c5cff6361e38ff65b",
     "grade": true,
     "grade_id": "cell-587c24a5019f76f4",
     "locked": false,
     "points": 5,
     "schema_version": 3,
     "solution": true,
     "task": false
    }
   },
   "outputs": [
    {
     "name": "stdout",
     "output_type": "stream",
     "text": [
      "[5.12, 1.36, 4.4]\n"
     ]
    }
   ],
   "source": [
    "# YOUR CODE HERE\n",
    "\n",
    "def WordTime(s, S):\n",
    "    words = s.split()\n",
    "    times = []\n",
    "    for word in words:\n",
    "        time = MorseTime(word, S)\n",
    "        times.append(time)\n",
    "    return times\n",
    "\n",
    "print(WordTime(\"Welcome to Ireland\", 15)) # get the transmission time of each word"
   ]
  },
  {
   "cell_type": "markdown",
   "metadata": {
    "deletable": false,
    "editable": false,
    "nbgrader": {
     "cell_type": "markdown",
     "checksum": "068f815fb14187ee20a34829e627b817",
     "grade": false,
     "grade_id": "cell-9f8f3c5c0cf3c378",
     "locked": true,
     "schema_version": 3,
     "solution": false,
     "task": false
    }
   },
   "source": [
    "(d) (5 marks) Create a function `MorseFileStats()` that takes as input a file name `fname`, a speed `S`, and an integer `N`. The function open and reads the file `fname`, computes the Morse Code length of each of the words in the file at a speed of `S` words per minute, where a word is defined as a sequence of letters and digits **excluding spaced and punctuation symbols**. The function returns a tuple `(H, B)`, where `B` is the list of bin edges, and `H` is the list of counts for each bin. _(Hint: you can obtain the bins either by using any of the functions to construct a histogram that we have seen in the module, or by implementing your own histogram algorithm instead)_."
   ]
  },
  {
   "cell_type": "code",
   "execution_count": 84,
   "metadata": {
    "deletable": false,
    "nbgrader": {
     "cell_type": "code",
     "checksum": "b2ef6dda492cd8ff9aabaf859acf9901",
     "grade": true,
     "grade_id": "cell-eb3bdbc6a573c181",
     "locked": false,
     "points": 5,
     "schema_version": 3,
     "solution": true,
     "task": false
    }
   },
   "outputs": [],
   "source": [
    "# YOUR CODE HERE\n",
    "\n",
    "def MorseFileStats(fname, S, N):\n",
    "    with open(fname, 'r') as f:\n",
    "        contents = f.read()\n",
    "    \n",
    "    words = contents.split()\n",
    "    \n",
    "    lengths = [MorseLength(word.upper(), Morse) for word in words]\n",
    "    \n",
    "    plt.hist(lengths, bins=N) # Plot a histogram of the lengths of morse code representation of words\n",
    "    plt.show()"
   ]
  },
  {
   "cell_type": "markdown",
   "metadata": {
    "deletable": false,
    "editable": false,
    "nbgrader": {
     "cell_type": "markdown",
     "checksum": "c2398b0fbd67774c58d759eb41a1c8d8",
     "grade": false,
     "grade_id": "cell-33210ea32b7126ca",
     "locked": true,
     "schema_version": 3,
     "solution": false,
     "task": false
    }
   },
   "source": [
    "(e) (5 marks) Use the function `MorseFileStats()` developed in point (c) above to compute the histograms of Morse Code word lengths in each of the files you find in the folder `\"textfiles\"`. You should produce a plot with a sufficient number of sub-panels (axes), to show the distribution of word lengths (in seconds) in each of those files for  `S=15`wpm, `S=20`wpm and `S=25`wpm.  For each histogram plot, use at least `N=15` bins."
   ]
  },
  {
   "cell_type": "code",
   "execution_count": 85,
   "metadata": {
    "deletable": false,
    "nbgrader": {
     "cell_type": "code",
     "checksum": "a859c25ac4fb55a9e20fe939db9aff18",
     "grade": true,
     "grade_id": "cell-fc42c1a53f3d2992",
     "locked": false,
     "points": 5,
     "schema_version": 3,
     "solution": true,
     "task": false
    }
   },
   "outputs": [
    {
     "data": {
      "image/png": "[encoded data removed]",
      "text/plain": [
       "<Figure size 432x288 with 1 Axes>"
      ]
     },
     "metadata": {
      "needs_background": "light"
     },
     "output_type": "display_data"
    },
    {
     "data": {
      "image/png": "[encoded data removed]",
      "text/plain": [
       "<Figure size 432x288 with 1 Axes>"
      ]
     },
     "metadata": {
      "needs_background": "light"
     },
     "output_type": "display_data"
    },
    {
     "data": {
      "image/png": "[encoded data removed]",
      "text/plain": [
       "<Figure size 432x288 with 1 Axes>"
      ]
     },
     "metadata": {
      "needs_background": "light"
     },
     "output_type": "display_data"
    },
    {
     "data": {
      "image/png": "[encoded data removed]",
      "text/plain": [
       "<Figure size 432x288 with 1 Axes>"
      ]
     },
     "metadata": {
      "needs_background": "light"
     },
     "output_type": "display_data"
    },
    {
     "data": {
      "image/png": "[encoded data removed]",
      "text/plain": [
       "<Figure size 432x288 with 1 Axes>"
      ]
     },
     "metadata": {
      "needs_background": "light"
     },
     "output_type": "display_data"
    },
    {
     "data": {
      "image/png": "[encoded data removed]",
      "text/plain": [
       "<Figure size 432x288 with 1 Axes>"
      ]
     },
     "metadata": {
      "needs_background": "light"
     },
     "output_type": "display_data"
    }
   ],
   "source": [
    "# YOUR CODE HERE\n",
    "\n",
    "filenames = ['textfiles/' + f for f in os.listdir('textfiles')]\n",
    "for f in filenames:\n",
    "    MorseFileStats(f, 15, 15)\n",
    "    MorseFileStats(f, 20, 15)\n",
    "    MorseFileStats(f, 25, 15)"
   ]
  },
  {
   "cell_type": "code",
   "execution_count": null,
   "metadata": {},
   "outputs": [],
   "source": []
  }
 ],
 "metadata": {
  "kernelspec": {
   "display_name": "Python 3",
   "language": "python",
   "name": "python3"
  },
  "language_info": {
   "codemirror_mode": {
    "name": "ipython",
    "version": 3
   },
   "file_extension": ".py",
   "mimetype": "text/x-python",
   "name": "python",
   "nbconvert_exporter": "python",
   "pygments_lexer": "ipython3",
   "version": "3.8.8"
  }
 },
 "nbformat": 4,
 "nbformat_minor": 2
}
